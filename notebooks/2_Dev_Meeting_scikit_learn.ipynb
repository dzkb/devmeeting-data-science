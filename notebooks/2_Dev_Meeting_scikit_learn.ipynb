{
 "cells": [
  {
   "cell_type": "markdown",
   "metadata": {
    "colab_type": "text",
    "id": "lWJICkmpbW7S"
   },
   "source": [
    "# DevMeeting – Data Science\n",
    "## 2. scikit-learn\n",
    "\n",
    "![scikit-learn](https://upload.wikimedia.org/wikipedia/commons/thumb/0/05/Scikit_learn_logo_small.svg/200px-Scikit_learn_logo_small.svg.png)\n",
    "\n",
    "scikit-learn to biblioteka implementująca większość powszechnie używanych metod uczenia maszynowego. W niniejszym projekcie wykorzystamy __Drzewa decyzyjne__, dostępne w scikit-learnie, do zbudowania klasyfikatora.\n",
    "\n",
    "W skład scikit-learn, poza metodami uczenia maszynowego, wchodzą algorytmy wstępnego przetwarzania danych (preprocessingu), wyboru modeli i wizualizacji."
   ]
  },
  {
   "cell_type": "code",
   "execution_count": null,
   "metadata": {
    "colab": {},
    "colab_type": "code",
    "id": "__Hc_l4HDtke"
   },
   "outputs": [],
   "source": [
    "import numpy as np\n",
    "import pandas as pd\n",
    "\n",
    "# Preprocessing\n",
    "from sklearn.preprocessing import LabelEncoder\n",
    "from sklearn.model_selection import train_test_split\n",
    "\n",
    "# Drzewa decyzyjne\n",
    "from sklearn.tree import DecisionTreeClassifier\n",
    "\n",
    "# Miary jakości\n",
    "from sklearn.metrics import precision_score\n",
    "\n",
    "# Wizualizacja drzew decyzyjnych\n",
    "from io import StringIO\n",
    "from IPython.display import Image  \n",
    "from sklearn.tree import export_graphviz\n",
    "import pydotplus\n",
    "\n",
    "# Przechowywanie modeli\n",
    "import pickle"
   ]
  },
  {
   "cell_type": "markdown",
   "metadata": {
    "colab_type": "text",
    "id": "Ixik6h_-5uUC"
   },
   "source": [
    "## 2.1 Podstawy Uczenia Maszynowego"
   ]
  },
  {
   "cell_type": "markdown",
   "metadata": {
    "colab_type": "text",
    "id": "QPHSGRLP5zVk"
   },
   "source": [
    "## 2.2 Wstępne przetwarzanie danych"
   ]
  },
  {
   "cell_type": "markdown",
   "metadata": {
    "colab_type": "text",
    "id": "I9BrRXCCDUCw"
   },
   "source": [
    "### Uzupełnianie brakujących danych"
   ]
  },
  {
   "cell_type": "code",
   "execution_count": null,
   "metadata": {
    "colab": {},
    "colab_type": "code",
    "id": "P_Euo6gzDqYV"
   },
   "outputs": [],
   "source": [
    "df = pd.DataFrame(\n",
    "    {\"pet\": [\"cat\", \"dog\", \"cat\", \"dog\"],\n",
    "     \"age\": [3, 7, 1, 2],\n",
    "     \"length\": [40, np.nan, 46, 80]\n",
    "    }\n",
    ")\n",
    "\n",
    "df"
   ]
  },
  {
   "cell_type": "code",
   "execution_count": null,
   "metadata": {
    "colab": {},
    "colab_type": "code",
    "id": "2d2OvJMBDy82"
   },
   "outputs": [],
   "source": [
    "mean_length = df[\"length\"].mean()\n",
    "mean_length"
   ]
  },
  {
   "cell_type": "code",
   "execution_count": null,
   "metadata": {
    "colab": {},
    "colab_type": "code",
    "id": "2M4z3Lx9D-VF"
   },
   "outputs": [],
   "source": [
    "df[\"length\"] = df[\"length\"].fillna(mean_length)\n",
    "df"
   ]
  },
  {
   "cell_type": "markdown",
   "metadata": {
    "colab_type": "text",
    "id": "fuRnpd_EESpi"
   },
   "source": [
    "### Usuwanie zbędnych cech"
   ]
  },
  {
   "cell_type": "code",
   "execution_count": null,
   "metadata": {
    "colab": {},
    "colab_type": "code",
    "id": "gTyUSWGUEZnb"
   },
   "outputs": [],
   "source": [
    "df = pd.DataFrame(\n",
    "    {\"pet\": [\"cat\", \"dog\", \"cat\", \"dog\"],\n",
    "     \"age\": [3, 7, 1, 2],\n",
    "     \"length\": [40, 50, 46, 80],\n",
    "     \"name\": [\"Fluff\", \"Skip\", \"Molly\", \"Bear\"],\n",
    "     \"owner_phone\": [\"555-100\", \"1-880-232\", np.nan, \"333-000-111\"],\n",
    "    }\n",
    ")\n",
    "\n",
    "df"
   ]
  },
  {
   "cell_type": "code",
   "execution_count": null,
   "metadata": {
    "colab": {},
    "colab_type": "code",
    "id": "VZ0eGmHKFK2X"
   },
   "outputs": [],
   "source": [
    "new_df = df.drop(columns=[\"name\", \"owner_phone\"])\n",
    "new_df"
   ]
  },
  {
   "cell_type": "code",
   "execution_count": null,
   "metadata": {
    "colab": {},
    "colab_type": "code",
    "id": "N8LyZohfFRZU"
   },
   "outputs": [],
   "source": [
    "new_df = df.loc[:, [\"pet\", \"age\", \"length\"]]\n",
    "new_df"
   ]
  },
  {
   "cell_type": "markdown",
   "metadata": {
    "colab_type": "text",
    "id": "1l3Bou-IjrUP"
   },
   "source": [
    "### Binaryzacja cech kategorycznych"
   ]
  },
  {
   "cell_type": "code",
   "execution_count": null,
   "metadata": {
    "colab": {},
    "colab_type": "code",
    "id": "r5wQ2MXaj2h2"
   },
   "outputs": [],
   "source": [
    "from sklearn.preprocessing import LabelEncoder"
   ]
  },
  {
   "cell_type": "code",
   "execution_count": null,
   "metadata": {
    "colab": {},
    "colab_type": "code",
    "id": "EvGZLML9liXQ"
   },
   "outputs": [],
   "source": [
    "df = pd.DataFrame(\n",
    "    {\"pet\": [\"cat\", \"dog\", \"cat\", \"dog\"],\n",
    "     \"age\": [3, 7, 1, 2],\n",
    "     \"length\": [40, 50, 46, 80]\n",
    "    }\n",
    ")"
   ]
  },
  {
   "cell_type": "code",
   "execution_count": null,
   "metadata": {
    "colab": {},
    "colab_type": "code",
    "id": "ymt2HZNrlo7O"
   },
   "outputs": [],
   "source": [
    "encoder = LabelEncoder()\n",
    "\n",
    "# wybór kolumny \"pet\"\n",
    "pet_category = df.loc[:, \"pet\"]\n",
    "pet_category"
   ]
  },
  {
   "cell_type": "code",
   "execution_count": null,
   "metadata": {
    "colab": {},
    "colab_type": "code",
    "id": "_6v-MxIbl3lX"
   },
   "outputs": [],
   "source": [
    "# koder zapamiętuje jakie wartości mogą przyjmować cechy\n",
    "encoder.fit(pet_category)"
   ]
  },
  {
   "cell_type": "code",
   "execution_count": null,
   "metadata": {
    "colab": {},
    "colab_type": "code",
    "id": "6dfZ6WQ1mEFJ"
   },
   "outputs": [],
   "source": [
    "# przekształcamy cechy w wartości numeryczne\n",
    "binarized_category = encoder.transform(pet_category)\n",
    "binarized_category"
   ]
  },
  {
   "cell_type": "code",
   "execution_count": null,
   "metadata": {
    "colab": {},
    "colab_type": "code",
    "id": "nqEiWTpHmb_6"
   },
   "outputs": [],
   "source": [
    "df[\"pet\"] = binarized_category\n",
    "df"
   ]
  },
  {
   "cell_type": "markdown",
   "metadata": {
    "colab_type": "text",
    "id": "ajXyPYGGmlOj"
   },
   "source": [
    "### Podział zbioru na treningowy/testowy"
   ]
  },
  {
   "cell_type": "code",
   "execution_count": null,
   "metadata": {
    "colab": {},
    "colab_type": "code",
    "id": "s82YGHaxmrej"
   },
   "outputs": [],
   "source": [
    "from sklearn.model_selection import train_test_split"
   ]
  },
  {
   "cell_type": "markdown",
   "metadata": {
    "colab_type": "text",
    "id": "_y2mJ-Hfm1en"
   },
   "source": [
    "Do następnych przykładów używać będziemy zbioru Iris"
   ]
  },
  {
   "cell_type": "code",
   "execution_count": null,
   "metadata": {
    "colab": {},
    "colab_type": "code",
    "id": "uFph43Mpm0bD"
   },
   "outputs": [],
   "source": [
    "iris = pd.read_csv(\"https://dzkb.github.io/devmeeting-data-science/data/iris.csv\")\n",
    "iris.head()"
   ]
  },
  {
   "cell_type": "code",
   "execution_count": null,
   "metadata": {
    "colab": {},
    "colab_type": "code",
    "id": "UKddN5dOnmLY"
   },
   "outputs": [],
   "source": [
    "X = iris.drop(columns=\"species\")\n",
    "y = iris.loc[:, \"species\"]"
   ]
  },
  {
   "cell_type": "code",
   "execution_count": null,
   "metadata": {
    "colab": {},
    "colab_type": "code",
    "id": "ClrbHc_lm-_f"
   },
   "outputs": [],
   "source": [
    "train_X, test_X, train_y, test_y = train_test_split(X, y, test_size=0.2, random_state=42)\n",
    "\n",
    "print(\"Zbiór treningowy:\", train_X.shape, train_y.shape)\n",
    "print(\"Zbiór testowy:\", test_X.shape, test_y.shape)"
   ]
  },
  {
   "cell_type": "markdown",
   "metadata": {
    "colab_type": "text",
    "id": "EpFDsWsX521p"
   },
   "source": [
    "## 2.3 Modele drzew decyzyjnych"
   ]
  },
  {
   "cell_type": "code",
   "execution_count": null,
   "metadata": {
    "colab": {},
    "colab_type": "code",
    "id": "tNj6oxqojlfe"
   },
   "outputs": [],
   "source": [
    "from sklearn.tree import DecisionTreeClassifier"
   ]
  },
  {
   "cell_type": "code",
   "execution_count": null,
   "metadata": {
    "colab": {},
    "colab_type": "code",
    "id": "sVZ-uHVyoe_m"
   },
   "outputs": [],
   "source": [
    "tree = DecisionTreeClassifier(\n",
    "  # miejsce na hiperparametry\n",
    ")\n",
    "\n",
    "# uczenie modelu drzewa decyzyjnego\n",
    "tree.fit(train_X, train_y)"
   ]
  },
  {
   "cell_type": "code",
   "execution_count": null,
   "metadata": {
    "colab": {},
    "colab_type": "code",
    "id": "QhxOU9BTovO8"
   },
   "outputs": [],
   "source": [
    "# predykcja na zbiorze testowym\n",
    "predicted_y = tree.predict(test_X)\n",
    "predicted_y"
   ]
  },
  {
   "cell_type": "markdown",
   "metadata": {
    "colab_type": "text",
    "id": "P_FA9sr-567i"
   },
   "source": [
    "## 2.4 Testowanie modelu"
   ]
  },
  {
   "cell_type": "code",
   "execution_count": null,
   "metadata": {
    "colab": {},
    "colab_type": "code",
    "id": "Uj94XOpiqiWg"
   },
   "outputs": [],
   "source": [
    "from sklearn.metrics import precision_score"
   ]
  },
  {
   "cell_type": "code",
   "execution_count": null,
   "metadata": {
    "colab": {},
    "colab_type": "code",
    "id": "qHPNfC-CqrFB"
   },
   "outputs": [],
   "source": [
    "precision = precision_score(test_y, predicted_y, average=\"micro\")\n",
    "print(\"Precyzja: {:.2f}\".format(precision))"
   ]
  },
  {
   "cell_type": "markdown",
   "metadata": {
    "colab_type": "text",
    "id": "HtXKZ4MK5_2O"
   },
   "source": [
    "## 2.5 Wizualizacja drzew decyzyjnych"
   ]
  },
  {
   "cell_type": "code",
   "execution_count": null,
   "metadata": {
    "colab": {},
    "colab_type": "code",
    "id": "IU5tRXiwrA4q"
   },
   "outputs": [],
   "source": [
    "from io import StringIO\n",
    "from IPython.display import Image  \n",
    "from sklearn.tree import export_graphviz\n",
    "import pydotplus"
   ]
  },
  {
   "cell_type": "code",
   "execution_count": null,
   "metadata": {
    "colab": {},
    "colab_type": "code",
    "id": "6UdsPviYxxpq"
   },
   "outputs": [],
   "source": [
    "# czytelniejsza wizualizacja:\n",
    "# - nazwy cech w zbiorze\n",
    "iris_feature_names = X.columns\n",
    "# - nazwy klas, które przewidujemy\n",
    "iris_class_names = y.unique()\n",
    "\n",
    "print(\"Cechy:\", iris_feature_names)\n",
    "print(\"Klasy:\", iris_class_names)"
   ]
  },
  {
   "cell_type": "code",
   "execution_count": null,
   "metadata": {
    "colab": {},
    "colab_type": "code",
    "id": "z_0MfL9KuCIb"
   },
   "outputs": [],
   "source": [
    "dot_data = StringIO()\n",
    "export_graphviz(\n",
    "    tree, # obiekt drzewa\n",
    "    out_file=dot_data, # obiekt, do którego zostanie zapisana definicja grafu\n",
    "    filled=True, # styl grafu: wypełnione węzły\n",
    "    rounded=True, # styl grafu: zaokrąglone węzły\n",
    "    special_characters=True, # styl grafu: poprawne symbole matematyczne\n",
    "    feature_names=iris_feature_names, # nazwy cech w zbiorze\n",
    "    class_names=iris_class_names # nazwy przewidywanych klas\n",
    ")\n",
    "graph = pydotplus.graph_from_dot_data(dot_data.getvalue())  \n",
    "Image(graph.create_png())"
   ]
  },
  {
   "cell_type": "markdown",
   "metadata": {
    "colab_type": "text",
    "id": "TXpWcjPN6H0i"
   },
   "source": [
    "## 2.6 Przechowywanie modeli"
   ]
  },
  {
   "cell_type": "code",
   "execution_count": null,
   "metadata": {
    "colab": {},
    "colab_type": "code",
    "id": "8mdfF6gkydw8"
   },
   "outputs": [],
   "source": [
    "import pickle"
   ]
  },
  {
   "cell_type": "markdown",
   "metadata": {
    "colab_type": "text",
    "id": "0-l7kNZ-yltR"
   },
   "source": [
    "Przy korzystaniu z modeli potrzebujemy zapisać również kroki przetwarzania wstępnego, np. obiekt **LabelEncoder**."
   ]
  },
  {
   "cell_type": "code",
   "execution_count": null,
   "metadata": {
    "colab": {},
    "colab_type": "code",
    "id": "BB9ZPOLs0l6e"
   },
   "outputs": [],
   "source": [
    "model = (encoder, tree)"
   ]
  },
  {
   "cell_type": "code",
   "execution_count": null,
   "metadata": {
    "colab": {},
    "colab_type": "code",
    "id": "RVv0sG5ZylKe"
   },
   "outputs": [],
   "source": [
    "with open(\"model.pkl\", \"wb\") as model_file:\n",
    "    pickle.dump(model, model_file)"
   ]
  },
  {
   "cell_type": "code",
   "execution_count": null,
   "metadata": {
    "colab": {},
    "colab_type": "code",
    "id": "la1p3f0-0m4u"
   },
   "outputs": [],
   "source": [
    "with open(\"model.pkl\", \"rb\") as model_file:\n",
    "    unpickled_model = pickle.load(model_file)\n",
    "    unpickled_model"
   ]
  },
  {
   "cell_type": "code",
   "execution_count": null,
   "metadata": {
    "colab": {},
    "colab_type": "code",
    "id": "QdlkyiPa0suU"
   },
   "outputs": [],
   "source": [
    "encoder, tree = unpickled_model"
   ]
  },
  {
   "cell_type": "markdown",
   "metadata": {
    "colab_type": "text",
    "id": "uP2v-UJ07-CE"
   },
   "source": [
    "# Zadania do wykonania\n",
    "\n",
    "1. Wczytaj zbiór Titanic i dokonaj preprocessingu:\n",
    "  *   usuń niepotrzebne kolumny\n",
    "  *   przetransformuj cechę płci na wartości binarne 0/1\n",
    "  *   podziel zbiór na wektory cech (`X`) i wartości docelowe klas (`y`)\n",
    "  *  podziel zbiór na podzbiór uczący (80%) i testowy (20%)\n",
    "2. Naucz model drzewa decyzyjnego przy użyciu zbioru uczącego\n",
    "3. Sprawdź jakość uzyskanego modelu na zbiorze testowym\n",
    "4. Zwizualizuj drzewo decyzyjne\n",
    "5. Zapisz modele przy pomocy `pickle`\n",
    "6. (Opcjonalnie) Sprawdź jak wartości hiperparametrów wpływają na budowanie drzewa decyzyjnego"
   ]
  }
 ],
 "metadata": {
  "colab": {
   "collapsed_sections": [
    "fuRnpd_EESpi",
    "1l3Bou-IjrUP",
    "ajXyPYGGmlOj",
    "EpFDsWsX521p",
    "HtXKZ4MK5_2O"
   ],
   "name": "2_Dev_Meeting_scikit_learn.ipynb",
   "provenance": [],
   "toc_visible": true
  },
  "kernelspec": {
   "display_name": "Python 3",
   "language": "python",
   "name": "python3"
  },
  "language_info": {
   "codemirror_mode": {
    "name": "ipython",
    "version": 3
   },
   "file_extension": ".py",
   "mimetype": "text/x-python",
   "name": "python",
   "nbconvert_exporter": "python",
   "pygments_lexer": "ipython3",
   "version": "3.7.4"
  }
 },
 "nbformat": 4,
 "nbformat_minor": 4
}
