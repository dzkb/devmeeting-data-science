{
  "nbformat": 4,
  "nbformat_minor": 0,
  "metadata": {
    "colab": {
      "name": "1. Dev Meeting - pandas",
      "version": "0.3.2",
      "provenance": [],
      "collapsed_sections": [
        "OR7MkGdQg98z"
      ],
      "toc_visible": true
    },
    "kernelspec": {
      "name": "python3",
      "display_name": "Python 3"
    }
  },
  "cells": [
    {
      "cell_type": "markdown",
      "metadata": {
        "id": "fcW3kcC_ZX2k",
        "colab_type": "text"
      },
      "source": [
        "# DevMeeting – DataScience"
      ]
    },
    {
      "cell_type": "markdown",
      "metadata": {
        "id": "lWJICkmpbW7S",
        "colab_type": "text"
      },
      "source": [
        "## 1. Pandas i NumPy\n",
        "\n",
        "![pandas](https://github.com/pandas-dev/pandas/raw/master/doc/logo/pandas_logo.png)\n",
        "\n",
        "Pandas to biblioteka służąca do wczytywania, analizy i wstępnego przetwarzania danych. Wspiera operacje wejścia i wyjścia dla wielu źródeł i formatów danych:\n",
        "- plików CSV\n",
        "- JSON\n",
        "- Excel\n",
        "- HDF5\n",
        "- Pickle - serializacja w Pythonie\n",
        "- SQL\n",
        "\n",
        "NumPy to pakiet wspomagający obliczenia w Pythonie. Udostępnia wydajną implementację tablicy N-wymiarowej, która stanowi podstawę wielu innych pakietów naukowych (w tym pandas).\n",
        "\n",
        "Pandas, razem z pakietem NumPy stanowi podstawowe narzędzie w pracy z danymi w Pythonie."
      ]
    },
    {
      "cell_type": "markdown",
      "metadata": {
        "id": "PcwIjpdDvkaf",
        "colab_type": "text"
      },
      "source": [
        "### 1.1 Podstawowe operacje w Pandas"
      ]
    },
    {
      "cell_type": "code",
      "metadata": {
        "id": "OvWq-oI6bTaQ",
        "colab_type": "code",
        "colab": {}
      },
      "source": [
        "import numpy as np\n",
        "import pandas as pd"
      ],
      "execution_count": 0,
      "outputs": []
    },
    {
      "cell_type": "markdown",
      "metadata": {
        "id": "tDyBYYWQdlGm",
        "colab_type": "text"
      },
      "source": [
        "Podstawowymi typami danych w pandas są `Series` oraz `DataFrame`.\n",
        "\n",
        "`Series` to jednowymiarowa tablica wartości, z etykietami kolejnych wartości. Pozwala na przechowywanie dowolnych wartości. `Series` skonstruować można np. za pomocą zwykłej listy wartości:"
      ]
    },
    {
      "cell_type": "code",
      "metadata": {
        "id": "5r3opENEdkor",
        "colab_type": "code",
        "colab": {}
      },
      "source": [
        "s = pd.Series([1, 2, 0, -2, 133])\n",
        "s"
      ],
      "execution_count": 0,
      "outputs": []
    },
    {
      "cell_type": "markdown",
      "metadata": {
        "id": "T3t9ab_rfBA1",
        "colab_type": "text"
      },
      "source": [
        "`DataFrame` to dwuwymiarowa tablica. Można to porównać do tabeli w Excelu: lista wierszy, dla których wartości zorganizowane są w formie kolumn. Poniższy przykład pokazuje jak można skonstruować DataFrame przy pomocy słownika:"
      ]
    },
    {
      "cell_type": "code",
      "metadata": {
        "id": "JMvIjvYVeihi",
        "colab_type": "code",
        "colab": {}
      },
      "source": [
        "df = pd.DataFrame(\n",
        "    {\"pet\": [\"cat\", \"dog\", \"cat\", \"dog\"],\n",
        "     \"age\": [3, 7, 1, 2],\n",
        "     \"length\": [40, 50, 46, 80]\n",
        "    }\n",
        ")\n",
        "\n",
        "df"
      ],
      "execution_count": 0,
      "outputs": []
    },
    {
      "cell_type": "markdown",
      "metadata": {
        "id": "5ARRuznCv5K5",
        "colab_type": "text"
      },
      "source": [
        "Głównymi elementami `DataFrame` są wiersze i kolumny. W powyższym przykładzie wiersze zawierają informacje o zwierzętach. Każde zwierzę opisane jest atrybutami - kolumnami: _pet_, _age_ i _length_.\n",
        "\n",
        "### Wybór po indeksach\n",
        "\n",
        "W `pandas` mechanizm wybierania podzbiorów danych jest bardzo rozbudowany. Możliwe jest wybieranie konkretnych wierszy, kolumn, na podstawie indeksów (również indeksów złożonych). Przykład:"
      ]
    },
    {
      "cell_type": "code",
      "metadata": {
        "id": "DyoTpjWPf-bh",
        "colab_type": "code",
        "colab": {}
      },
      "source": [
        "# wybieranie po nazwach etykiet\n",
        "# dataframe.iloc[wiersz(e), kolumna(y)]\n",
        "\n",
        "df.loc[0, [\"pet\", \"length\"]]"
      ],
      "execution_count": 0,
      "outputs": []
    },
    {
      "cell_type": "code",
      "metadata": {
        "id": "iMygMvvigTiB",
        "colab_type": "code",
        "colab": {}
      },
      "source": [
        "# Slicing\n",
        "df.loc[0:2, [\"pet\", \"length\"]]"
      ],
      "execution_count": 0,
      "outputs": []
    },
    {
      "cell_type": "code",
      "metadata": {
        "id": "Yg1dmEtAgXrh",
        "colab_type": "code",
        "colab": {}
      },
      "source": [
        "# Wybór po numerach porządkowych\n",
        "# np. zamiast pisać \"pet\", wybrać kolumnę numer 0\n",
        "\n",
        "df.iloc[0, [0, 2]]"
      ],
      "execution_count": 0,
      "outputs": []
    },
    {
      "cell_type": "code",
      "metadata": {
        "colab_type": "code",
        "id": "csqZHuZj27Ea",
        "colab": {}
      },
      "source": [
        "df[\"age\"]"
      ],
      "execution_count": 0,
      "outputs": []
    },
    {
      "cell_type": "markdown",
      "metadata": {
        "id": "Adrs5J5q3BA0",
        "colab_type": "text"
      },
      "source": [
        "W powyższym przykładzie wybraliśmy kolumnę _age_ dla każdego z wierszy - uzyskany wynik to obiekt `Series`, czyli lista wartości z indeksami.\n",
        "\n",
        "Możliwe jest również wybranie wielu kolumn na raz, przekazując listę nazw"
      ]
    },
    {
      "cell_type": "code",
      "metadata": {
        "id": "PDbmL7WznYoO",
        "colab_type": "code",
        "colab": {}
      },
      "source": [
        "df[[\"pet\", \"age\"]]"
      ],
      "execution_count": 0,
      "outputs": []
    },
    {
      "cell_type": "code",
      "metadata": {
        "id": "PdAeDWw01XkO",
        "colab_type": "code",
        "colab": {}
      },
      "source": [
        "df = pd.DataFrame(\n",
        "    {\n",
        "     \"index\": [1, 23, 44, 50],\n",
        "     \"pet\": [\"cat\", \"dog\", \"cat\", \"dog\"],\n",
        "     \"age\": [3, 7, 1, 2],\n",
        "     \"length\": [40, 50, 46, 80]\n",
        "    }\n",
        ").set_index(\"index\")\n",
        "\n",
        "df"
      ],
      "execution_count": 0,
      "outputs": []
    },
    {
      "cell_type": "code",
      "metadata": {
        "id": "Q5W6fczz1_2e",
        "colab_type": "code",
        "colab": {}
      },
      "source": [
        "# Wybór po wartości indeksu\n",
        "print(df.loc[1])\n",
        "\n",
        "print(\"-\"*15)\n",
        "\n",
        "# Wybór po \"kolejności\" wierszy\n",
        "print(df.iloc[1])"
      ],
      "execution_count": 0,
      "outputs": []
    },
    {
      "cell_type": "markdown",
      "metadata": {
        "id": "OR7MkGdQg98z",
        "colab_type": "text"
      },
      "source": [
        "### Wybór przy pomocy kryteriów (maski)"
      ]
    },
    {
      "cell_type": "code",
      "metadata": {
        "id": "Gmr6DoNVgtrV",
        "colab_type": "code",
        "colab": {}
      },
      "source": [
        "# Boolean indexing\n",
        "# Wybór okietów na podstawie maski\n",
        "\n",
        "mask = df[\"length\"] > 47\n",
        "mask"
      ],
      "execution_count": 0,
      "outputs": []
    },
    {
      "cell_type": "code",
      "metadata": {
        "id": "_Uvl-pUtg3-W",
        "colab_type": "code",
        "colab": {}
      },
      "source": [
        "df[mask]"
      ],
      "execution_count": 0,
      "outputs": []
    },
    {
      "cell_type": "code",
      "metadata": {
        "id": "46JuzLZqhKj3",
        "colab_type": "code",
        "colab": {}
      },
      "source": [
        "df[mask].count()"
      ],
      "execution_count": 0,
      "outputs": []
    },
    {
      "cell_type": "markdown",
      "metadata": {
        "id": "3tohdAFYZOeU",
        "colab_type": "text"
      },
      "source": [
        "### 1.2 Wstępny przegląd danych"
      ]
    },
    {
      "cell_type": "markdown",
      "metadata": {
        "id": "euWGv_aBZi4V",
        "colab_type": "text"
      },
      "source": [
        "Istotnym elementem pracy z danymi jest wstępny przegląd dostępnego zbioru. Do tego celu służą osobne narzędzia, np. [matplotlib](https://matplotlib.org/), czy [seaborn](https://seaborn.pydata.org/), jednak proste analizy wykonywać można również przy użyciu samego `pandas`.\n",
        "\n",
        "Do przeglądu wykorzystamy zbiór [Iris](https://en.wikipedia.org/wiki/Iris_flower_data_set) -- jest to zbiór demonstracyjny, zawierający łącznie 150 próbek z trzech gatunków irysów."
      ]
    },
    {
      "cell_type": "code",
      "metadata": {
        "id": "lLadhUlnawNT",
        "colab_type": "code",
        "colab": {}
      },
      "source": [
        "iris = pd.read_csv(\"https://dzkb.github.io/devmeeting-data-science/data/iris.csv\")\n",
        "\n",
        "iris"
      ],
      "execution_count": 0,
      "outputs": []
    },
    {
      "cell_type": "code",
      "metadata": {
        "id": "JEQHhppjeXnD",
        "colab_type": "code",
        "colab": {}
      },
      "source": [
        "iris.head(n=10)"
      ],
      "execution_count": 0,
      "outputs": []
    },
    {
      "cell_type": "code",
      "metadata": {
        "id": "vbFp48NaeSV_",
        "colab_type": "code",
        "colab": {}
      },
      "source": [
        "iris.tail()"
      ],
      "execution_count": 0,
      "outputs": []
    },
    {
      "cell_type": "markdown",
      "metadata": {
        "id": "uMFhh88AcNcf",
        "colab_type": "text"
      },
      "source": [
        "Interesujące, z punktu widzenia pracy z danymi są m. in. takie informacje:\n",
        "- rozkład wartości poszczególnych cech\n",
        "- liczba przykładów przypadających na każdą z klas\n",
        "- obecność wartości zmiennoprzecinkowych, całkowitoliczbowych oraz tzw. kategorycznych (np. kolor oczu).\n",
        "\n",
        "Rozkłady wartości uzyskać możemy zwizualizować pomocy metody `hist()`:"
      ]
    },
    {
      "cell_type": "code",
      "metadata": {
        "id": "kzVHzJDvdbiY",
        "colab_type": "code",
        "colab": {}
      },
      "source": [
        "iris[\"petal_length\"].hist()"
      ],
      "execution_count": 0,
      "outputs": []
    },
    {
      "cell_type": "code",
      "metadata": {
        "id": "ft2P_dgB5pEm",
        "colab_type": "code",
        "colab": {}
      },
      "source": [
        "iris[iris[\"species\"] == \"setosa\"].hist()"
      ],
      "execution_count": 0,
      "outputs": []
    },
    {
      "cell_type": "code",
      "metadata": {
        "id": "JNpZheQgdrK-",
        "colab_type": "code",
        "colab": {}
      },
      "source": [
        "iris[\"species\"].value_counts()"
      ],
      "execution_count": 0,
      "outputs": []
    },
    {
      "cell_type": "code",
      "metadata": {
        "id": "71htS6v-dyPB",
        "colab_type": "code",
        "colab": {}
      },
      "source": [
        "iris.info()"
      ],
      "execution_count": 0,
      "outputs": []
    },
    {
      "cell_type": "code",
      "metadata": {
        "id": "zSGQov5YeIot",
        "colab_type": "code",
        "colab": {}
      },
      "source": [
        "iris.describe()"
      ],
      "execution_count": 0,
      "outputs": []
    },
    {
      "cell_type": "code",
      "metadata": {
        "id": "TyyxlLLih5Xs",
        "colab_type": "code",
        "colab": {}
      },
      "source": [
        "iris.hist()"
      ],
      "execution_count": 0,
      "outputs": []
    },
    {
      "cell_type": "markdown",
      "metadata": {
        "id": "BAlQxFJsd5cu",
        "colab_type": "text"
      },
      "source": [
        "# Zadania do wykonania\n",
        "\n",
        "Zadania wstępne na zbiorze Iris:\n",
        "1. Zwizualizuj rozkłady wybranych cech dla każdego gatunku (_species_) irysów z osobna\n",
        "2. Przelicz ile przykładów irysów ma płatki dłuższe, niż średnia długość płatka (_petal length (cm)_)\n",
        "\n",
        "Zadania na zbiorze Titanic:\n",
        "3. Wczytaj zbiór titanic z adresu `https://dzkb.github.io/devmeeting-data-science/data/titanic.csv`\n",
        "4. Wyświetl fragment wczytanego zbioru\n",
        "5. Ustal:\n",
        "  * co oznaczają odpowiednie kolumny\n",
        "  * jakie typy danych występują w zbiorze\n",
        "  * czy w zbiorze występują brakujące dane (NaN)\n",
        "6. Zwizualizuj rozkłady cech w zbiorze\n",
        "  * zwróć uwagę na rozkład wieku pasażerów, w zależności od tego czy przeżyli, czy zginęli"
      ]
    }
  ]
}