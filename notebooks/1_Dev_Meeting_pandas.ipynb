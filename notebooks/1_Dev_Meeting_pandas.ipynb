{
 "cells": [
  {
   "cell_type": "markdown",
   "metadata": {
    "colab_type": "text",
    "id": "fcW3kcC_ZX2k"
   },
   "source": [
    "# DevMeeting – DataScience"
   ]
  },
  {
   "cell_type": "markdown",
   "metadata": {
    "colab_type": "text",
    "id": "lWJICkmpbW7S"
   },
   "source": [
    "## 1. Pandas i NumPy\n",
    "\n",
    "![pandas](https://github.com/pandas-dev/pandas/raw/master/doc/logo/pandas_logo.png)\n",
    "\n",
    "Pandas to biblioteka służąca do wczytywania, analizy i wstępnego przetwarzania danych. Wspiera operacje wejścia i wyjścia dla wielu źródeł i formatów danych:\n",
    "- plików CSV\n",
    "- JSON\n",
    "- Excel\n",
    "- HDF5\n",
    "- Pickle - serializacja w Pythonie\n",
    "- SQL\n",
    "\n",
    "NumPy to pakiet wspomagający obliczenia w Pythonie. Udostępnia wydajną implementację tablicy N-wymiarowej, która stanowi podstawę wielu innych pakietów naukowych (w tym pandas).\n",
    "\n",
    "Pandas, razem z pakietem NumPy stanowi podstawowe narzędzie w pracy z danymi w Pythonie."
   ]
  },
  {
   "cell_type": "markdown",
   "metadata": {
    "colab_type": "text",
    "id": "PcwIjpdDvkaf"
   },
   "source": [
    "### 1.1 Podstawowe operacje w Pandas"
   ]
  },
  {
   "cell_type": "code",
   "execution_count": null,
   "metadata": {
    "colab": {},
    "colab_type": "code",
    "id": "OvWq-oI6bTaQ"
   },
   "outputs": [],
   "source": [
    "import numpy as np\n",
    "import pandas as pd"
   ]
  },
  {
   "cell_type": "markdown",
   "metadata": {
    "colab_type": "text",
    "id": "tDyBYYWQdlGm"
   },
   "source": [
    "Podstawowymi typami danych w pandas są `Series` oraz `DataFrame`.\n",
    "\n",
    "`Series` to jednowymiarowa tablica wartości, z etykietami kolejnych wartości. Pozwala na przechowywanie dowolnych wartości. `Series` skonstruować można np. za pomocą zwykłej listy wartości:"
   ]
  },
  {
   "cell_type": "code",
   "execution_count": null,
   "metadata": {
    "colab": {},
    "colab_type": "code",
    "id": "5r3opENEdkor"
   },
   "outputs": [],
   "source": [
    "s = pd.Series([1, 2, 0, -2, 133])\n",
    "s"
   ]
  },
  {
   "cell_type": "markdown",
   "metadata": {
    "colab_type": "text",
    "id": "T3t9ab_rfBA1"
   },
   "source": [
    "`DataFrame` to dwuwymiarowa tablica. Można to porównać do tabeli w Excelu: lista wierszy, dla których wartości zorganizowane są w formie kolumn. Poniższy przykład pokazuje jak można skonstruować DataFrame przy pomocy słownika:"
   ]
  },
  {
   "cell_type": "code",
   "execution_count": null,
   "metadata": {
    "colab": {},
    "colab_type": "code",
    "id": "JMvIjvYVeihi"
   },
   "outputs": [],
   "source": [
    "df = pd.DataFrame(\n",
    "    {\"pet\": [\"cat\", \"dog\", \"cat\", \"dog\"],\n",
    "     \"age\": [3, 7, 1, 2],\n",
    "     \"length\": [40, 50, 46, 80]\n",
    "    }\n",
    ")\n",
    "\n",
    "df"
   ]
  },
  {
   "cell_type": "markdown",
   "metadata": {
    "colab_type": "text",
    "id": "5ARRuznCv5K5"
   },
   "source": [
    "Głównymi elementami `DataFrame` są wiersze i kolumny. W powyższym przykładzie wiersze zawierają informacje o zwierzętach. Każde zwierzę opisane jest atrybutami - kolumnami: _pet_, _age_ i _length_.\n",
    "\n",
    "### Wybór po indeksach\n",
    "\n",
    "W `pandas` mechanizm wybierania podzbiorów danych jest bardzo rozbudowany. Możliwe jest wybieranie konkretnych wierszy, kolumn, na podstawie indeksów (również indeksów złożonych). Przykład:"
   ]
  },
  {
   "cell_type": "code",
   "execution_count": null,
   "metadata": {
    "colab": {},
    "colab_type": "code",
    "id": "DyoTpjWPf-bh"
   },
   "outputs": [],
   "source": [
    "# wybieranie po nazwach etykiet\n",
    "# dataframe.iloc[wiersz(e), kolumna(y)]\n",
    "\n",
    "df.loc[0, [\"pet\", \"length\"]]"
   ]
  },
  {
   "cell_type": "code",
   "execution_count": null,
   "metadata": {
    "colab": {},
    "colab_type": "code",
    "id": "iMygMvvigTiB"
   },
   "outputs": [],
   "source": [
    "# Slicing\n",
    "df.loc[0:2, [\"pet\", \"length\"]]"
   ]
  },
  {
   "cell_type": "code",
   "execution_count": null,
   "metadata": {
    "colab": {},
    "colab_type": "code",
    "id": "Yg1dmEtAgXrh"
   },
   "outputs": [],
   "source": [
    "# Wybór po numerach porządkowych\n",
    "# np. zamiast pisać \"pet\", wybrać kolumnę numer 0\n",
    "\n",
    "df.iloc[0, [0, 2]]"
   ]
  },
  {
   "cell_type": "code",
   "execution_count": null,
   "metadata": {
    "colab": {},
    "colab_type": "code",
    "id": "csqZHuZj27Ea"
   },
   "outputs": [],
   "source": [
    "df[\"age\"]"
   ]
  },
  {
   "cell_type": "markdown",
   "metadata": {
    "colab_type": "text",
    "id": "Adrs5J5q3BA0"
   },
   "source": [
    "W powyższym przykładzie wybraliśmy kolumnę _age_ dla każdego z wierszy - uzyskany wynik to obiekt `Series`, czyli lista wartości z indeksami.\n",
    "\n",
    "Możliwe jest również wybranie wielu kolumn na raz, przekazując listę nazw"
   ]
  },
  {
   "cell_type": "code",
   "execution_count": null,
   "metadata": {
    "colab": {},
    "colab_type": "code",
    "id": "PDbmL7WznYoO"
   },
   "outputs": [],
   "source": [
    "df[[\"pet\", \"age\"]]"
   ]
  },
  {
   "cell_type": "code",
   "execution_count": null,
   "metadata": {
    "colab": {},
    "colab_type": "code",
    "id": "PdAeDWw01XkO"
   },
   "outputs": [],
   "source": [
    "df = pd.DataFrame(\n",
    "    {\n",
    "     \"index\": [1, 23, 44, 50],\n",
    "     \"pet\": [\"cat\", \"dog\", \"cat\", \"dog\"],\n",
    "     \"age\": [3, 7, 1, 2],\n",
    "     \"length\": [40, 50, 46, 80]\n",
    "    }\n",
    ").set_index(\"index\")\n",
    "\n",
    "df"
   ]
  },
  {
   "cell_type": "code",
   "execution_count": null,
   "metadata": {
    "colab": {},
    "colab_type": "code",
    "id": "Q5W6fczz1_2e"
   },
   "outputs": [],
   "source": [
    "# Wybór po wartości indeksu\n",
    "print(df.loc[1])\n",
    "\n",
    "print(\"-\"*15)\n",
    "\n",
    "# Wybór po \"kolejności\" wierszy\n",
    "print(df.iloc[1])"
   ]
  },
  {
   "cell_type": "markdown",
   "metadata": {
    "colab_type": "text",
    "id": "OR7MkGdQg98z"
   },
   "source": [
    "### Wybór przy pomocy kryteriów (maski)"
   ]
  },
  {
   "cell_type": "code",
   "execution_count": null,
   "metadata": {
    "colab": {},
    "colab_type": "code",
    "id": "Gmr6DoNVgtrV"
   },
   "outputs": [],
   "source": [
    "# Boolean indexing\n",
    "# Wybór obiektów na podstawie maski\n",
    "\n",
    "mask = df[\"length\"] > 47\n",
    "mask"
   ]
  },
  {
   "cell_type": "code",
   "execution_count": null,
   "metadata": {
    "colab": {},
    "colab_type": "code",
    "id": "_Uvl-pUtg3-W"
   },
   "outputs": [],
   "source": [
    "df[mask]"
   ]
  },
  {
   "cell_type": "code",
   "execution_count": null,
   "metadata": {
    "colab": {},
    "colab_type": "code",
    "id": "46JuzLZqhKj3"
   },
   "outputs": [],
   "source": [
    "df[mask].count()"
   ]
  },
  {
   "cell_type": "markdown",
   "metadata": {
    "colab_type": "text",
    "id": "3tohdAFYZOeU"
   },
   "source": [
    "### 1.2 Wstępny przegląd danych"
   ]
  },
  {
   "cell_type": "markdown",
   "metadata": {
    "colab_type": "text",
    "id": "euWGv_aBZi4V"
   },
   "source": [
    "Istotnym elementem pracy z danymi jest wstępny przegląd dostępnego zbioru. Do tego celu służą osobne narzędzia, np. [matplotlib](https://matplotlib.org/), czy [seaborn](https://seaborn.pydata.org/), jednak proste analizy wykonywać można również przy użyciu samego `pandas`.\n",
    "\n",
    "Do przeglądu wykorzystamy zbiór [Iris](https://en.wikipedia.org/wiki/Iris_flower_data_set) -- jest to zbiór demonstracyjny, zawierający łącznie 150 próbek z trzech gatunków irysów."
   ]
  },
  {
   "cell_type": "code",
   "execution_count": null,
   "metadata": {
    "colab": {},
    "colab_type": "code",
    "id": "lLadhUlnawNT"
   },
   "outputs": [],
   "source": [
    "iris = pd.read_csv(\"https://dzkb.github.io/devmeeting-data-science/data/iris.csv\")\n",
    "\n",
    "iris"
   ]
  },
  {
   "cell_type": "code",
   "execution_count": null,
   "metadata": {
    "colab": {},
    "colab_type": "code",
    "id": "JEQHhppjeXnD"
   },
   "outputs": [],
   "source": [
    "iris.head(n=10)"
   ]
  },
  {
   "cell_type": "code",
   "execution_count": null,
   "metadata": {
    "colab": {},
    "colab_type": "code",
    "id": "vbFp48NaeSV_"
   },
   "outputs": [],
   "source": [
    "iris.tail()"
   ]
  },
  {
   "cell_type": "markdown",
   "metadata": {
    "colab_type": "text",
    "id": "uMFhh88AcNcf"
   },
   "source": [
    "Interesujące, z punktu widzenia pracy z danymi są m. in. takie informacje:\n",
    "- rozkład wartości poszczególnych cech\n",
    "- liczba przykładów przypadających na każdą z klas\n",
    "- obecność wartości zmiennoprzecinkowych, całkowitoliczbowych oraz tzw. kategorycznych (np. kolor oczu).\n",
    "\n",
    "Rozkłady wartości uzyskać możemy zwizualizować pomocy metody `hist()`:"
   ]
  },
  {
   "cell_type": "code",
   "execution_count": null,
   "metadata": {
    "colab": {},
    "colab_type": "code",
    "id": "kzVHzJDvdbiY"
   },
   "outputs": [],
   "source": [
    "iris[\"petal_length\"].hist()"
   ]
  },
  {
   "cell_type": "code",
   "execution_count": null,
   "metadata": {
    "colab": {},
    "colab_type": "code",
    "id": "ft2P_dgB5pEm"
   },
   "outputs": [],
   "source": [
    "iris[iris[\"species\"] == \"setosa\"].hist()"
   ]
  },
  {
   "cell_type": "code",
   "execution_count": null,
   "metadata": {
    "colab": {},
    "colab_type": "code",
    "id": "JNpZheQgdrK-"
   },
   "outputs": [],
   "source": [
    "iris[\"species\"].value_counts()"
   ]
  },
  {
   "cell_type": "code",
   "execution_count": null,
   "metadata": {
    "colab": {},
    "colab_type": "code",
    "id": "71htS6v-dyPB"
   },
   "outputs": [],
   "source": [
    "iris.info()"
   ]
  },
  {
   "cell_type": "code",
   "execution_count": null,
   "metadata": {
    "colab": {},
    "colab_type": "code",
    "id": "zSGQov5YeIot"
   },
   "outputs": [],
   "source": [
    "iris.describe()"
   ]
  },
  {
   "cell_type": "code",
   "execution_count": null,
   "metadata": {
    "colab": {},
    "colab_type": "code",
    "id": "TyyxlLLih5Xs"
   },
   "outputs": [],
   "source": [
    "iris.hist()"
   ]
  },
  {
   "cell_type": "markdown",
   "metadata": {
    "colab_type": "text",
    "id": "BAlQxFJsd5cu"
   },
   "source": [
    "# Zadania do wykonania\n",
    "\n",
    "Zadania wstępne na zbiorze Iris:\n",
    "1. Zwizualizuj rozkłady wybranych cech dla każdego gatunku (_species_) irysów z osobna\n",
    "2. Przelicz ile przykładów irysów ma płatki dłuższe, niż średnia długość płatka (_petal length (cm)_)\n",
    "\n",
    "Zadania na zbiorze Titanic:\n",
    "3. Wczytaj zbiór titanic z adresu `https://dzkb.github.io/devmeeting-data-science/data/titanic.csv`\n",
    "4. Wyświetl fragment wczytanego zbioru\n",
    "5. Ustal:\n",
    "  * co oznaczają odpowiednie kolumny\n",
    "  * jakie typy danych występują w zbiorze\n",
    "  * czy w zbiorze występują brakujące dane (NaN)\n",
    "6. Zwizualizuj rozkłady cech w zbiorze\n",
    "  * zwróć uwagę na rozkład wieku pasażerów, w zależności od tego czy przeżyli, czy zginęli"
   ]
  }
 ],
 "metadata": {
  "colab": {
   "collapsed_sections": [
    "OR7MkGdQg98z"
   ],
   "name": "1_Dev_Meeting_pandas.ipynb",
   "provenance": [],
   "toc_visible": true
  },
  "kernelspec": {
   "display_name": "Python 3",
   "language": "python",
   "name": "python3"
  },
  "language_info": {
   "codemirror_mode": {
    "name": "ipython",
    "version": 3
   },
   "file_extension": ".py",
   "mimetype": "text/x-python",
   "name": "python",
   "nbconvert_exporter": "python",
   "pygments_lexer": "ipython3",
   "version": "3.7.4"
  }
 },
 "nbformat": 4,
 "nbformat_minor": 4
}
