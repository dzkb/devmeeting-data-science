{
  "nbformat": 4,
  "nbformat_minor": 0,
  "metadata": {
    "colab": {
      "name": "4. Dev Meeting - Flask",
      "version": "0.3.2",
      "provenance": [],
      "collapsed_sections": [],
      "toc_visible": true
    },
    "kernelspec": {
      "name": "python3",
      "display_name": "Python 3"
    }
  },
  "cells": [
    {
      "cell_type": "markdown",
      "metadata": {
        "id": "lWJICkmpbW7S",
        "colab_type": "text"
      },
      "source": [
        "# DevMeeting – Data Science\n",
        "## 4. Flask\n",
        "<img src=\"http://flask.pocoo.org/static/logo/flask.png\" alt=\"drawing\" width=\"220\" height=\"86;\"/>\n",
        "\n",
        "Flask to minimalistyczny framework do aplikacji webowych w Pythonie. Jest to wygodne narzędzie w budowaniu prostych serwisów, np. do dostarczania modeli predykcyjnych. W niniejszym projekcie połączymy model Titanic z modelem przewidywania wieku i płci, by uzyskać serwis określający szanse przeżycia na hipotetycznym Titanicu.\n",
        "\n",
        "Niestety Colaboratory jest środowiskiem badawczym, nie budowanym z myślą o uruchamianiu serwisów, dlatego wykorzystamy narzędzie [localtunnel](https://localtunnel.github.io/www/) do tunelowania połączeń poza sieć lokalną Colaboratory."
      ]
    },
    {
      "cell_type": "code",
      "metadata": {
        "id": "OvWq-oI6bTaQ",
        "colab_type": "code",
        "colab": {}
      },
      "source": [
        "import numpy as np\n",
        "import pandas as pd\n",
        "\n",
        "from flask import Flask, request"
      ],
      "execution_count": 0,
      "outputs": []
    },
    {
      "cell_type": "code",
      "metadata": {
        "id": "VV4G1fKuZJHb",
        "colab_type": "code",
        "colab": {}
      },
      "source": [
        "!npm install -g localtunnel"
      ],
      "execution_count": 0,
      "outputs": []
    },
    {
      "cell_type": "markdown",
      "metadata": {
        "id": "ElbTPAqc6kKU",
        "colab_type": "text"
      },
      "source": [
        "## 4.1 Integracja modeli uczenia maszynowego"
      ]
    },
    {
      "cell_type": "markdown",
      "metadata": {
        "id": "7tpBly7TCvLZ",
        "colab_type": "text"
      },
      "source": [
        "Integracja modeli predykcyjnych jest ułatwiona, jeśli pracujemy w Pythonie. Możemy skorzystać z już zbudowanych modeli np. w scikit-learnie, czy TensorFlow."
      ]
    },
    {
      "cell_type": "markdown",
      "metadata": {
        "id": "NLf0aJrF6udc",
        "colab_type": "text"
      },
      "source": [
        "## 4.2. Wstęp do Flaska"
      ]
    },
    {
      "cell_type": "markdown",
      "metadata": {
        "id": "Psv5-hGVXCCI",
        "colab_type": "text"
      },
      "source": [
        "Aplikacje we Flasku wymagają utworzenia instancji klasy `Flask`"
      ]
    },
    {
      "cell_type": "code",
      "metadata": {
        "id": "70NTvqZ7fxsg",
        "colab_type": "code",
        "colab": {}
      },
      "source": [
        "app = Flask(__name__)"
      ],
      "execution_count": 0,
      "outputs": []
    },
    {
      "cell_type": "markdown",
      "metadata": {
        "id": "s69z4HzygC6B",
        "colab_type": "text"
      },
      "source": [
        "Kolejnym etapem jest zdefiniowanie endpointów - służy do tego dekorator `@app.route`"
      ]
    },
    {
      "cell_type": "code",
      "metadata": {
        "id": "mA2ko6ajiw6x",
        "colab_type": "code",
        "colab": {}
      },
      "source": [
        "get_ipython().system_raw(\"lt --port 5000 --subdomain dzkb > lt.txt &\")\n",
        "!sleep 1\n",
        "!cat lt.txt\n",
        "\n",
        "app = Flask(__name__)\n",
        "\n",
        "@app.route(\"/\")\n",
        "def index():\n",
        "  return \"Hello world\"\n",
        "\n",
        "app.run()"
      ],
      "execution_count": 0,
      "outputs": []
    },
    {
      "cell_type": "markdown",
      "metadata": {
        "id": "LyinJh6flrpd",
        "colab_type": "text"
      },
      "source": [
        "Możemy określić, że endpoint działa tylko przy użyciu metody POST"
      ]
    },
    {
      "cell_type": "code",
      "metadata": {
        "id": "LJFXOrJGlP0C",
        "colab_type": "code",
        "colab": {}
      },
      "source": [
        "get_ipython().system_raw(\"lt --port 5000 --subdomain dzkb > lt.txt &\")\n",
        "!sleep 1\n",
        "!cat lt.txt\n",
        "\n",
        "app = Flask(__name__)\n",
        "\n",
        "@app.route(\"/estimate\", methods=[\"POST\"])\n",
        "def estimate():\n",
        "  return \"Hello world\"\n",
        "\n",
        "app.run()"
      ],
      "execution_count": 0,
      "outputs": []
    },
    {
      "cell_type": "markdown",
      "metadata": {
        "id": "pRPgo631lyxA",
        "colab_type": "text"
      },
      "source": [
        "We Flasku możemy uzyskać dostęp do danych przesyłanych w żądaniu korzystając z globalnego obiektu [request](http://flask.pocoo.org/docs/0.12/api/#incoming-request-data).\n",
        "\n",
        "Szczególnie istotne są dla nas dwa pola tego obiektu:\n",
        " * `request.files` - słownik plików, przesłanych razem z żądaniem jako część formularza\n",
        " * `request.form` - słownik zawierający pola formularza\n",
        " \n",
        " "
      ]
    },
    {
      "cell_type": "code",
      "metadata": {
        "id": "i9I8O9GmleId",
        "colab_type": "code",
        "colab": {}
      },
      "source": [
        "get_ipython().system_raw(\"lt --port 5000 --subdomain dzkb > lt.txt &\")\n",
        "!sleep 1\n",
        "!cat lt.txt\n",
        "\n",
        "app = Flask(__name__)\n",
        "\n",
        "@app.route(\"/estimate\", methods=[\"POST\"])\n",
        "def estimate():\n",
        "  file = request.files[\"file\"]\n",
        "  \n",
        "  return \"Hello world\""
      ],
      "execution_count": 0,
      "outputs": []
    },
    {
      "cell_type": "markdown",
      "metadata": {
        "id": "8rUHhIevi3UJ",
        "colab_type": "text"
      },
      "source": [
        "Po zdefiniowaniu endpointów wystarczy wykonać metodę `run` na obiekcie aplikacji. Uruchomiony zostanie serwer deweloperski na domyślnym porcie 5000."
      ]
    },
    {
      "cell_type": "code",
      "metadata": {
        "id": "-qbZO_jrjE3B",
        "colab_type": "code",
        "colab": {}
      },
      "source": [
        "# uruchomienie metody spowoduje zablokowanie możliwości wykonywania innych komórek\n",
        "# app.run()"
      ],
      "execution_count": 0,
      "outputs": []
    },
    {
      "cell_type": "markdown",
      "metadata": {
        "id": "tDTOB7ofD0go",
        "colab_type": "text"
      },
      "source": [
        "# Zadania do wykonania\n",
        "\n",
        "1. Wczytaj potrzebne komponenty:\n",
        "  * model predykcji przeżywalności (pickle)\n",
        "  * model predykcji wieku i płci (jak w poprzednim etapie)\n",
        "2. Zbuduj podstwową aplikację we Flasku -- endpoint `/estimate` przyjmujący dane formularza: \n",
        "  * zdjęcie\n",
        "  * liczbę rodzeństwa/współmałżonków (siblings/spouses)\n",
        "  * liczbę dzieci/rodziców (parents/children)\n",
        "  * klasę wykupionego biletu\n",
        "3. Przygotuj potok przetwarzania:\n",
        "  * odczytanie danych z przychodzącego żądania\n",
        "  * predykcja płci i wieku\n",
        "  * przygotowanie wyniku z predykcji płci i wieku (binaryzacja)\n",
        "  * zbudowanie wektora cech dla predykcji przeżywalności\n",
        "  * predykcja przeżywalności\n",
        "  * zwrócenie wyniku"
      ]
    },
    {
      "cell_type": "code",
      "metadata": {
        "id": "M1D_07ENXEUO",
        "colab_type": "code",
        "colab": {}
      },
      "source": [
        "# przygotowanie tunelu\n",
        "get_ipython().system_raw(\"lt --port 5000 --subdomain dzkb > lt.txt &\")\n",
        "!sleep 1\n",
        "!cat lt.txt\n",
        "\n",
        "# właściwa część aplikacji\n",
        "app = Flask(__name__)\n",
        "\n",
        "# 1. ładowanie modeli - powinno być wykonane w przed uruchomieniem aplikacji\n",
        "#     - sieci do predykcji wieku i płci\n",
        "#     - modelu przeżywalności: kodera etykiet i drzewa decyzyjnego\n",
        "\n",
        "# miejsce na definicję endpointu\n",
        "@app.route(\"/\")\n",
        "def index():\n",
        "  # 2. przyjęcie danych z obiektu request\n",
        "  #     - zdjęcie z request.files\n",
        "  #     - pozostałe pola z request.form\n",
        "  # 3. przygotowanie obrazu do przetworzenia\n",
        "  # 4. przetworzenie obrazu i pozyskanie wartości wieku i płci\n",
        "  # 5. przygotowanie wektora wejściowego dla drzewa decyzyjnego (m. in. preprocessing)\n",
        "  # 6. przekazanie wektora do drzewa decyzyjnego\n",
        "  # 7. zwrócenie wyniku\n",
        "  \n",
        "  return \"It works!\"\n",
        "\n",
        "app.run()"
      ],
      "execution_count": 0,
      "outputs": []
    }
  ]
}