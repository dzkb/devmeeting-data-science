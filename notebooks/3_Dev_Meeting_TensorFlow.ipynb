{
  "nbformat": 4,
  "nbformat_minor": 0,
  "metadata": {
    "colab": {
      "name": "3. Dev Meeting - TensorFlow",
      "version": "0.3.2",
      "provenance": [],
      "collapsed_sections": [],
      "toc_visible": true
    },
    "kernelspec": {
      "name": "python3",
      "display_name": "Python 3"
    }
  },
  "cells": [
    {
      "cell_type": "markdown",
      "metadata": {
        "id": "lWJICkmpbW7S",
        "colab_type": "text"
      },
      "source": [
        "# DevMeeting – Data Science\n",
        "## 3. Keras + TensorFlow\n",
        "\n",
        "![tensorflow](https://upload.wikimedia.org/wikipedia/commons/thumb/2/2d/Tensorflow_logo.svg/100px-Tensorflow_logo.svg.png)\n",
        "\n",
        "TensorFlow to biblioteka rozwijana przez Google, służąca do implementacji algorytmów głębokiego uczenia, głównie - głębokich sieci neuronowych. Nakładką na TensorFlow jest tzw. __Keras__, który udostępnia wysokopoziomowe API do pracy z metodami głębokiego uczenia.\n",
        "\n",
        "Metoda opisywana w tym notebooku wymaga, do szybkiego działania, dostępności karty graficznej, na potrzeby obliczeń. Aby skorzystać z darmowego dostępu w ramach Colaboratory, należy wybrać opcję akceleracji sprzętowej w opcjach __Runtime__->__Change runtime type__->__Hardware accelerator__->__GPU__."
      ]
    },
    {
      "cell_type": "code",
      "metadata": {
        "id": "8D_sJ8XSEeiT",
        "colab_type": "code",
        "colab": {}
      },
      "source": [
        "import numpy as np\n",
        "import pandas as pd\n",
        "\n",
        "from PIL import Image"
      ],
      "execution_count": 0,
      "outputs": []
    },
    {
      "cell_type": "markdown",
      "metadata": {
        "id": "85oaTMsQ6Shc",
        "colab_type": "text"
      },
      "source": [
        "## 3.1 Podstawy Głębokiego Uczenia"
      ]
    },
    {
      "cell_type": "markdown",
      "metadata": {
        "id": "I-SBO1Nz6Vsz",
        "colab_type": "text"
      },
      "source": [
        "## 3.2 Model predykcji wieku i płci"
      ]
    },
    {
      "cell_type": "markdown",
      "metadata": {
        "id": "aYN-2-4u-MCV",
        "colab_type": "text"
      },
      "source": [
        "W tej części skorzystamy z gotowej implementacji modelu do predykcji wieku i płci ze zdjęć. W pierwszej kolejności musimy pobrać kod definiujący architekturę sieci neuronowej:"
      ]
    },
    {
      "cell_type": "code",
      "metadata": {
        "id": "cERbMtgR82Bk",
        "colab_type": "code",
        "colab": {}
      },
      "source": [
        "!git clone https://github.com/yu4u/age-gender-estimation"
      ],
      "execution_count": 0,
      "outputs": []
    },
    {
      "cell_type": "markdown",
      "metadata": {
        "id": "EnTm84xP-aSH",
        "colab_type": "text"
      },
      "source": [
        "Musimy również pobrać sam zapisany model, czyli liczby opisujące połączenia pomiędzy kolejnymi neuronami w głębokiej sieci neuronowej (tzw. **wagi**)."
      ]
    },
    {
      "cell_type": "code",
      "metadata": {
        "id": "TLoPHRAr-Zvy",
        "colab_type": "code",
        "colab": {}
      },
      "source": [
        "!wget https://github.com/yu4u/age-gender-estimation/releases/download/v0.5/weights.29-3.76_utk.hdf5"
      ],
      "execution_count": 0,
      "outputs": []
    },
    {
      "cell_type": "markdown",
      "metadata": {
        "id": "FwHuu_X1B3ob",
        "colab_type": "text"
      },
      "source": [
        "Skorzystamy z modelu jak z modułu w Pythonie - dodajemy pobrane repozytorium do zmiennej środowiskowej PATH, a następnie importujemy klasę `WideResNet`, która stanowi definicję architektury sieci neuronowej."
      ]
    },
    {
      "cell_type": "code",
      "metadata": {
        "id": "UUPyaELpAas9",
        "colab_type": "code",
        "colab": {}
      },
      "source": [
        "# potrzebne, by zaimportować pobrane repozytorium\n",
        "import sys\n",
        "sys.path.append(\"./age-gender-estimation\")\n",
        "\n",
        "from wide_resnet import WideResNet"
      ],
      "execution_count": 0,
      "outputs": []
    },
    {
      "cell_type": "markdown",
      "metadata": {
        "id": "6ERV3TJ6CVwR",
        "colab_type": "text"
      },
      "source": [
        "Budujemy model: tworzymy obiekt klasy `WideResNet`, a następnie wywołujemy go jak funkcję - skutkuje to zbudowaniem właściwego grafu obliczeniowego."
      ]
    },
    {
      "cell_type": "code",
      "metadata": {
        "id": "029pkP-jBEKg",
        "colab_type": "code",
        "colab": {}
      },
      "source": [
        "deep_model = WideResNet(image_size=64)\n",
        "deep_model = deep_model()"
      ],
      "execution_count": 0,
      "outputs": []
    },
    {
      "cell_type": "markdown",
      "metadata": {
        "id": "YjcMw6GMCsbV",
        "colab_type": "text"
      },
      "source": [
        "W tym momencie model ma poprawną architekturę, ale brakuje jeszcze wag, które określają jego działanie. Kolejnym krokiem będzie zatem wczytanie zapisanych wag do utworzonej architektury."
      ]
    },
    {
      "cell_type": "code",
      "metadata": {
        "id": "xthlLdevCs3g",
        "colab_type": "code",
        "colab": {}
      },
      "source": [
        "deep_model.load_weights(\"/content/weights.29-3.76_utk.hdf5\")\n",
        "deep_model.summary()"
      ],
      "execution_count": 0,
      "outputs": []
    },
    {
      "cell_type": "markdown",
      "metadata": {
        "id": "iUtetUeJDF-A",
        "colab_type": "text"
      },
      "source": [
        "Powyższa lista opisuje architekturę sieci neuronowej - istotne są dwie rzeczy:\n",
        " * warstwa wejściowa - `input_4 (InputLayer)`\n",
        " * warstwy wyjściowe - `pred_gender` i `pred_age`\n",
        " \n",
        "Do każdej z tych warstw przypisany jest jej wymiar, czyli kształt wektora lub macierzy, jaki zostanie zwrócony.\n",
        "W przypadku warstwy wejściowej jest to `(None, 64, 64, 3)`, co oznacza, że warstwa ta przyjmuje dowolną liczbę (element `None`) obrazów o wymiarach 64x64, każdy z trzema kanałami (RGB).\n",
        "\n",
        "Predykcja, przy użyciu modelu, odbywa się poprzez zastosowanie metody `predict(input)`. \n",
        "Model zwraca parę wektorów: `(predykcja_plci, predykcja_wieku)`"
      ]
    },
    {
      "cell_type": "markdown",
      "metadata": {
        "id": "ldPd0UMUOVJ_",
        "colab_type": "text"
      },
      "source": [
        "Konwolucyjne sieci neuronowe, implementowane w TensorFlow, wymagają szczególnego formatu wejścia - n-wymiarowej tablicy, wg poniższego wzoru:\n",
        "```\n",
        "(liczba_przypadków, szerokość, wysokość, głębia)\n",
        "```\n",
        "\n",
        "* liczba przypadków określa ile na raz obrazów przetwarzanych jest przez sieć\n",
        "* szerokość, wysokość określają wymiary każdego z obrazów\n",
        "* głębia określa liczbę kanałów obrazu - 3 dla obrazów RGB, 1 dla obrazów w skali szarości.\n",
        "\n",
        "Taki format wygodny jest przy procesie uczenia sieci, ale przy przetwarzaniu pojedynczych przykładów `liczba_przypadków` zwykle równa będzie 1. Zakładając, że wczytany obraz reprezentowany będzie przez tablicę o wymiarach `(szerokość, wysokość, głębia)`, konieczne jest sztuczne dodanie jednego wymiaru na początku, by uzyskać format `(1, szerokość, wysokość, głębia)`.\n",
        "\n",
        "Operację tę można wykonać przy użyciu NumPy, korzystając z metody `.reshape(1, szerokość, wysokość, głębia)`."
      ]
    },
    {
      "cell_type": "code",
      "metadata": {
        "id": "7kwVcm2m9wtF",
        "colab_type": "code",
        "colab": {}
      },
      "source": [
        "random_input = np.random.random((1, 64, 64, 3))\n",
        "\n",
        "prediction = deep_model.predict(random_input)\n",
        "print(prediction)\n",
        "gender, age = prediction\n",
        "\n",
        "print(gender.shape)\n",
        "print(age.shape)"
      ],
      "execution_count": 0,
      "outputs": []
    },
    {
      "cell_type": "code",
      "metadata": {
        "id": "eSsIkg2gHkws",
        "colab_type": "code",
        "colab": {}
      },
      "source": [
        "import matplotlib.pyplot as plt\n",
        "\n",
        "age_values = list(range(len(age[0])))\n",
        "print(age_values)\n",
        "plt.bar(age_values, age[0])"
      ],
      "execution_count": 0,
      "outputs": []
    },
    {
      "cell_type": "markdown",
      "metadata": {
        "id": "o19HwqaCGcpK",
        "colab_type": "text"
      },
      "source": [
        "Model zwraca predykcję w formie pary tablic NumPy:\n",
        "```python\n",
        "(gender, age)\n",
        "```\n",
        "\n",
        "Tablice te określają rozkłady prawdopodobieństw wystąpienia danej płci lub danego wieku. Mając takie rozkłady, potrzebujemy wybrać z nich najbardziej prawdopodobną wartość."
      ]
    },
    {
      "cell_type": "markdown",
      "metadata": {
        "id": "hqu3zKMo6fQ0",
        "colab_type": "text"
      },
      "source": [
        "## 3.3 Praca z obrazami w Pythonie"
      ]
    },
    {
      "cell_type": "code",
      "metadata": {
        "id": "S94ZynFXEg0Q",
        "colab_type": "code",
        "colab": {}
      },
      "source": [
        "from PIL import Image"
      ],
      "execution_count": 0,
      "outputs": []
    },
    {
      "cell_type": "markdown",
      "metadata": {
        "id": "lEhiNTHwHfUu",
        "colab_type": "text"
      },
      "source": [
        "Do wczytywania i obsługi obrazów wykorzystami bibliotekę PIL. Zawiera ona klasę `Image`, która reprezentuje obrazek. Dla przykładu pobierzemy popularny obrazek testowy - [Lenna](https://en.wikipedia.org/wiki/Lenna)."
      ]
    },
    {
      "cell_type": "code",
      "metadata": {
        "id": "dAqbaGSSIOke",
        "colab_type": "code",
        "colab": {}
      },
      "source": [
        "!wget -O lenna.jpg https://upload.wikimedia.org/wikipedia/en/7/7d/Lenna_%28test_image%29.png"
      ],
      "execution_count": 0,
      "outputs": []
    },
    {
      "cell_type": "code",
      "metadata": {
        "id": "NULboNsVIqsj",
        "colab_type": "code",
        "colab": {}
      },
      "source": [
        "lenna = Image.open(\"lenna.jpg\")\n",
        "lenna"
      ],
      "execution_count": 0,
      "outputs": []
    },
    {
      "cell_type": "markdown",
      "metadata": {
        "id": "XhWdaGZUNweo",
        "colab_type": "text"
      },
      "source": [
        "Klasa `Image` implementuje wiele przydatnych metod do pracy z obrazami, m.in: `resize((width, height))`, która skaluje obraz do zadanej wielkości."
      ]
    },
    {
      "cell_type": "code",
      "metadata": {
        "id": "dxrF2Rf8OJkV",
        "colab_type": "code",
        "colab": {}
      },
      "source": [
        "lenna = lenna.resize((100, 100))\n",
        "lenna"
      ],
      "execution_count": 0,
      "outputs": []
    },
    {
      "cell_type": "markdown",
      "metadata": {
        "id": "e0v-LSxnWjIz",
        "colab_type": "text"
      },
      "source": [
        "Aby możliwe było przekazanie obrazu do konwolucyjnej sieci neuronowej, wymagane jest przekształcenie go do postaci tablicy NumPy"
      ]
    },
    {
      "cell_type": "code",
      "metadata": {
        "id": "zcGO0jyjWt16",
        "colab_type": "code",
        "colab": {}
      },
      "source": [
        "np_lenna = np.array(lenna)\n",
        "np_lenna.shape"
      ],
      "execution_count": 0,
      "outputs": []
    },
    {
      "cell_type": "markdown",
      "metadata": {
        "id": "NmKFmhgyx0Se",
        "colab_type": "text"
      },
      "source": [
        "Należy pamiętać o konieczności zmiany kształtu tablicy reprezentującej obraz, by uwzględnić dodatkowy pierwszy wymiar."
      ]
    },
    {
      "cell_type": "markdown",
      "metadata": {
        "id": "WZCn6-r5-Wmo",
        "colab_type": "text"
      },
      "source": [
        "# Zadania do wykonania\n",
        "\n",
        "1. Przygotuj potok przetwarzania obrazów:\n",
        "  * wczytanie obrazu z pliku (`Image.open()`)\n",
        "  * przeskalowanie obrazu do rozmiaru akceptowanego przez sieć neuronową\n",
        "  * przekonwertowanie do postaci tablicy NumPy (z uwzględnieniem wymiaru batcha)\n",
        "  * przetworzenie przez model\n",
        "  * pozyskanie wyników (`np.argmax`)\n",
        "  * zwrócenie wyniku przetwarzania w formacie JSON/słownika, np:\n",
        "  \n",
        "```python\n",
        "      {\n",
        "        \"gender\": \"female\",\n",
        "        \"age\": 30\n",
        "      }\n",
        "```\n"
      ]
    },
    {
      "cell_type": "code",
      "metadata": {
        "id": "9bT9jQKzLsCF",
        "colab_type": "code",
        "colab": {}
      },
      "source": [
        "age, gender = None, None\n",
        "\n",
        "# miejsce na kod\n",
        "\n",
        "\n",
        "{\n",
        "  \"gender\": gender,\n",
        "  \"age\": age\n",
        "}"
      ],
      "execution_count": 0,
      "outputs": []
    }
  ]
}